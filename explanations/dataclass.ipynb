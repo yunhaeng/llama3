{
 "cells": [
  {
   "cell_type": "code",
   "execution_count": 2,
   "metadata": {},
   "outputs": [],
   "source": [
    "from dataclasses import dataclass\n",
    "from typing import Optional"
   ]
  },
  {
   "cell_type": "markdown",
   "metadata": {},
   "source": [
    "# dataclass\n",
    "dataclass는 class의 init이나 repr 생성을 단순화 해주는 기능을 가지고 있습니다.\n",
    "\n",
    "이는 예제를 보시면 한 번에 쉽게 이해할 수 있습니다."
   ]
  },
  {
   "cell_type": "code",
   "execution_count": 5,
   "metadata": {},
   "outputs": [],
   "source": [
    "#기존 class 작성법.\n",
    "#함수의 초기 설정에 들어가야하는 인자가 많은 경우 __init__ 함수에 작성해야하는 내용이 많아집니다.\n",
    "class ModelArgs():\n",
    "    def __init__(\n",
    "            self, \n",
    "            dim: int = 32, \n",
    "            n_layers: int = 32, \n",
    "            n_heads: int = 32, \n",
    "            n_kv_heads: Optional[int] = None,\n",
    "            vocab_size: int = -1,\n",
    "            multiple_of: int = 256,\n",
    "            ffn_dim_multiplier: Optional[float] = None,\n",
    "            norm_eps: float = 1e-5,\n",
    "            rope_theta: float = 50000,\n",
    "            max_batch_size: int = 32,\n",
    "            max_seq_len: int = 2048\n",
    "    ):\n",
    "        #함수 안에 들어가는 인자를 위에서 모두 선언하였음에도, 클래스에 self값으로 넣어주기 위해 다시 긴 내용을 작성해야합니다.\n",
    "        self.dim = dim\n",
    "        self.n_layers = n_layers\n",
    "        self.n_heads = n_heads\n",
    "        self.n_kv_heads = n_kv_heads\n",
    "        self.vocab_size = vocab_size\n",
    "        self.multiple_of = multiple_of\n",
    "        self.ffn_dim_multiplier = ffn_dim_multiplier\n",
    "        self.norm_eps = norm_eps\n",
    "        self.rope_theta = rope_theta\n",
    "        self.max_batch_size = max_batch_size\n",
    "        self.max_seq_len = max_seq_len"
   ]
  },
  {
   "cell_type": "code",
   "execution_count": 7,
   "metadata": {},
   "outputs": [
    {
     "name": "stdout",
     "output_type": "stream",
     "text": [
      "dim: 32\n",
      "n_layers: 32\n",
      "n_heads: 32\n",
      "n_kv_heads: None\n"
     ]
    }
   ],
   "source": [
    "temp = ModelArgs()\n",
    "\n",
    "print('dim:',temp.dim)\n",
    "print('n_layers:',temp.n_layers)\n",
    "print('n_heads:',temp.n_heads)\n",
    "print('n_kv_heads:',temp.n_kv_heads)"
   ]
  },
  {
   "cell_type": "code",
   "execution_count": 8,
   "metadata": {},
   "outputs": [],
   "source": [
    "#dataclass 데코레이터를 통해 self등 불필요한 반복 작성을 줄여 코드 작성의 효율성을 높일 수 있습니다.\n",
    "#아래 코드는 위 클래스 코드와 동일하다고 보시면 됩니다.\n",
    "@dataclass\n",
    "class ModelArgs:\n",
    "    dim: int = 4096\n",
    "    n_layers: int = 32\n",
    "    n_heads: int = 32\n",
    "    n_kv_heads: Optional[int] = None # Optional은 None or type을 의미합니다. 기본값이 None일 때 자주 사용합니다.\n",
    "    vocab_size: int = -1\n",
    "    multiple_of: int = 256  # make SwiGLU hidden layer size multiple of large power of 2\n",
    "    ffn_dim_multiplier: Optional[float] = None\n",
    "    norm_eps: float = 1e-5\n",
    "    rope_theta: float = 500000\n",
    "\n",
    "    max_batch_size: int = 32\n",
    "    max_seq_len: int = 2048"
   ]
  },
  {
   "cell_type": "code",
   "execution_count": 9,
   "metadata": {},
   "outputs": [
    {
     "name": "stdout",
     "output_type": "stream",
     "text": [
      "dim: 4096\n",
      "n_layers: 32\n",
      "n_heads: 32\n",
      "n_kv_heads: None\n"
     ]
    }
   ],
   "source": [
    "temp = ModelArgs()\n",
    "\n",
    "print('dim:',temp.dim)\n",
    "print('n_layers:',temp.n_layers)\n",
    "print('n_heads:',temp.n_heads)\n",
    "print('n_kv_heads:',temp.n_kv_heads)"
   ]
  },
  {
   "cell_type": "markdown",
   "metadata": {},
   "source": [
    "**참고 : typing**\n",
    "\n",
    "Python은 함수나 클래스에 들어오는 인자값의 형태 규정을 딱히 하지 않아 높은 자유도를 가지고 있습니다.\n",
    "\n",
    "다만 이러한 자유도는 잘못된 인자값 타입이 들어왔을 때 감지하지 못한다는 단점을 가지고 있죠.\n",
    "\n",
    "이러한 점을 최근에는 typing을 활용하여 인자값의 형태에 대한 힌트를 넣어줌으로써 해결하는 방법이 많이 사용되고 있습니다."
   ]
  }
 ],
 "metadata": {
  "kernelspec": {
   "display_name": "llama3",
   "language": "python",
   "name": "python3"
  },
  "language_info": {
   "codemirror_mode": {
    "name": "ipython",
    "version": 3
   },
   "file_extension": ".py",
   "mimetype": "text/x-python",
   "name": "python",
   "nbconvert_exporter": "python",
   "pygments_lexer": "ipython3",
   "version": "3.12.3"
  }
 },
 "nbformat": 4,
 "nbformat_minor": 2
}
