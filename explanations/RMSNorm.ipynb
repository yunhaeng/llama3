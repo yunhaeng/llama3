{
 "cells": [
  {
   "cell_type": "markdown",
   "metadata": {},
   "source": [
    "# RMSNorm(Root Mean Square Normalization)\n",
    "llama에서는 정규화의 방법으로 Root Mean Square Normalization을 사용합니다.\n",
    "\n",
    "해당 방법은 internal covariate shift를 해결하기 위해 사용합니다.\n",
    "\n",
    "RMSNorm의 수식은 다음과 같습니다.\n",
    "\n",
    "![equation of RMSNorm](https://miro.medium.com/v2/resize:fit:1400/1*tjjimBzPdzuWW73y444Uzg.jpeg)\n",
    "\n",
    "(관련 논문 링크 : https://dl.acm.org/doi/pdf/10.5555/3454287.3455397)"
   ]
  },
  {
   "cell_type": "code",
   "execution_count": 2,
   "metadata": {},
   "outputs": [],
   "source": [
    "import torch"
   ]
  },
  {
   "cell_type": "code",
   "execution_count": 3,
   "metadata": {},
   "outputs": [],
   "source": [
    "#llama3의 RMSNorm class\n",
    "class RMSNorm(torch.nn.Module):\n",
    "    def __init__(self, dim: int, eps: float = 1e-6):\n",
    "        super().__init__()\n",
    "        self.eps = eps\n",
    "        self.weight = nn.Parameter(torch.ones(dim))\n",
    "\n",
    "    def _norm(self, x):\n",
    "        return x * torch.rsqrt(x.pow(2).mean(-1, keepdim=True) + self.eps)\n",
    "\n",
    "    def forward(self, x):\n",
    "        output = self._norm(x.float()).type_as(x)\n",
    "        return output * self.weight"
   ]
  },
  {
   "cell_type": "markdown",
   "metadata": {},
   "source": [
    "**참고: torch.rsqrt**\n",
    "\n",
    "torch.rsqrt(x)는 1/root(x)를 반환합니다.\n",
    "\n",
    "공식문서 링크 : https://pytorch.org/docs/stable/generated/torch.rsqrt.html"
   ]
  },
  {
   "cell_type": "code",
   "execution_count": 10,
   "metadata": {},
   "outputs": [
    {
     "name": "stdout",
     "output_type": "stream",
     "text": [
      "sample_tensor: tensor([0.5521, 0.0182, 0.0376, 0.7472]) \n",
      "\n",
      "rsqrt: tensor([1.3459, 7.4214, 5.1544, 1.1569])\n",
      "rsqrt 직접구현: tensor([1.3459, 7.4214, 5.1544, 1.1569])\n"
     ]
    }
   ],
   "source": [
    "#torch.rsqrt\n",
    "sample_tensor = torch.rand(4)\n",
    "print(\"sample_tensor:\",sample_tensor, \"\\n\")\n",
    "\n",
    "#직접구현\n",
    "custom_rsqrt = 1/torch.sqrt(sample_tensor)\n",
    "\n",
    "#두 값 비교\n",
    "print(\"rsqrt:\",torch.rsqrt(sample_tensor))\n",
    "print(\"rsqrt 직접구현:\", custom_rsqrt)"
   ]
  },
  {
   "cell_type": "markdown",
   "metadata": {},
   "source": [
    "**참고: torch.mean**\n",
    "\n",
    "mean은 평균을 의미합니다. 아마 많은 분들이 알고 계실거라 생각하는데요,</br>\n",
    "그것보다 중요한 것은 인자값입니다. 각각 dim = -1과 keepdim =True로 설정되었습니다."
   ]
  },
  {
   "cell_type": "code",
   "execution_count": 30,
   "metadata": {},
   "outputs": [
    {
     "name": "stdout",
     "output_type": "stream",
     "text": [
      "tensor([[0.8432, 0.4588, 0.2093],\n",
      "        [0.2540, 0.1243, 0.1277]])\n",
      "shape of sample_tensor: torch.Size([2, 3])\n",
      "\n",
      " ----------<dim=None, keepdim=False>----------\n",
      "tensor(0.3362)\n",
      "shape of sample_tensor: torch.Size([])\n",
      "\n",
      " ----------<dim=0, keepdim=False>----------\n",
      "tensor([0.5486, 0.2915, 0.1685])\n",
      "shape of sample_tensor: torch.Size([3])\n",
      "\n",
      " ----------<dim=1, keepdim=False>----------\n",
      "tensor([0.5038, 0.1687])\n",
      "shape of sample_tensor: torch.Size([2])\n",
      "\n",
      " ----------<dim=-1, keepdim=False>----------\n",
      "mean of shape(2,3):  torch.Size([2])\n",
      "mean of shape(2,3,4):  torch.Size([2, 3])\n",
      "mean of shape(2,3,4,5):  torch.Size([2, 3, 4])\n"
     ]
    }
   ],
   "source": [
    "#dim 비교\n",
    "\n",
    "sample_tensor = torch.rand((2,3))\n",
    "print(sample_tensor)\n",
    "print(\"shape of sample_tensor:\", sample_tensor.size())\n",
    "\n",
    "#dim = None, keepdim = False => tensor의 모든 값의 평균\n",
    "mean_tensor = sample_tensor.mean()\n",
    "print(\"\\n ----------<dim=None, keepdim=False>----------\")\n",
    "print(mean_tensor)\n",
    "print(\"shape of sample_tensor:\", mean_tensor.size())\n",
    "\n",
    "#dim = 0, keepdim = False => axis=0을 기준으로 평균\n",
    "mean_tensor = sample_tensor.mean(dim=0)\n",
    "print(\"\\n ----------<dim=0, keepdim=False>----------\")\n",
    "print(mean_tensor)\n",
    "print(\"shape of sample_tensor:\", mean_tensor.size())\n",
    "\n",
    "#dim = 1, keepdim = False => axis=1을 기준으로 평균\n",
    "mean_tensor = sample_tensor.mean(dim=1)\n",
    "print(\"\\n ----------<dim=1, keepdim=False>----------\")\n",
    "print(mean_tensor)\n",
    "print(\"shape of sample_tensor:\", mean_tensor.size())\n",
    "\n",
    "#dim = -1 : 가장 마지막 axis를 기준으로 평균.\n",
    "#어떤 shape의 tensor가 들어오더라도 가장 마지막 axis를 기준으로 하기 때문에\n",
    "#유연하게 반응할 수 있다는 장점을 가지고 있습니다.\n",
    "sample_tensor2 = torch.rand((2,3,4))\n",
    "sample_tensor3 = torch.rand((2,3,4,5))\n",
    "\n",
    "print(\"\\n ----------<dim=-1, keepdim=False>----------\")\n",
    "print(\"mean of shape(2,3): \", sample_tensor.mean(dim=-1).size())\n",
    "print(\"mean of shape(2,3,4): \", sample_tensor2.mean(dim=-1).size())\n",
    "print(\"mean of shape(2,3,4,5): \", sample_tensor3.mean(dim=-1).size())"
   ]
  },
  {
   "cell_type": "code",
   "execution_count": 33,
   "metadata": {},
   "outputs": [
    {
     "name": "stdout",
     "output_type": "stream",
     "text": [
      "tensor([[0.4798, 0.9732, 0.1887],\n",
      "        [0.4485, 0.2879, 0.5027]])\n",
      "shape of sample_tensor: torch.Size([2, 3])\n",
      "\n",
      " ----------<dim=0, keepdim=False>----------\n",
      "tensor([[0.4642, 0.6305, 0.3457]])\n",
      "shape of sample_tensor: torch.Size([1, 3])\n",
      "\n",
      " ----------<dim=1, keepdim=False>----------\n",
      "tensor([[0.5472],\n",
      "        [0.4130]])\n",
      "shape of sample_tensor: torch.Size([2, 1])\n"
     ]
    }
   ],
   "source": [
    "#keepdim 비교\n",
    "\n",
    "sample_tensor = torch.rand((2,3))\n",
    "print(sample_tensor)\n",
    "print(\"shape of sample_tensor:\", sample_tensor.size())\n",
    "\n",
    "#dim = 0, keepdim = False => axis=0을 기준으로 평균\n",
    "mean_tensor = sample_tensor.mean(dim=0, keepdim=True)\n",
    "print(\"\\n ----------<dim=0, keepdim=False>----------\")\n",
    "print(mean_tensor)\n",
    "print(\"shape of sample_tensor:\", mean_tensor.size())\n",
    "\n",
    "#dim = 1, keepdim = False => axis=1을 기준으로 평균\n",
    "mean_tensor = sample_tensor.mean(dim=1, keepdim=True)\n",
    "print(\"\\n ----------<dim=1, keepdim=False>----------\")\n",
    "print(mean_tensor)\n",
    "print(\"shape of sample_tensor:\", mean_tensor.size())\n",
    "\n",
    "#dim = -1 : 가장 마지막 axis를 기준으로 평균.\n",
    "#어떤 shape의 tensor가 들어오더라도 가장 마지막 axis를 기준으로 하기 때문에\n",
    "#유연하게 반응할 수 있다는 장점을 가지고 있습니다.\n",
    "sample_tensor2 = torch.rand((2,3,4))\n",
    "sample_tensor3 = torch.rand((2,3,4,5))"
   ]
  }
 ],
 "metadata": {
  "kernelspec": {
   "display_name": "llama3",
   "language": "python",
   "name": "python3"
  },
  "language_info": {
   "codemirror_mode": {
    "name": "ipython",
    "version": 3
   },
   "file_extension": ".py",
   "mimetype": "text/x-python",
   "name": "python",
   "nbconvert_exporter": "python",
   "pygments_lexer": "ipython3",
   "version": "3.12.3"
  }
 },
 "nbformat": 4,
 "nbformat_minor": 2
}
