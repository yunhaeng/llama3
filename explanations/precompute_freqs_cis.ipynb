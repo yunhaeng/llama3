{
  "nbformat": 4,
  "nbformat_minor": 0,
  "metadata": {
    "colab": {
      "provenance": []
    },
    "kernelspec": {
      "name": "python3",
      "display_name": "Python 3"
    },
    "language_info": {
      "name": "python"
    }
  },
  "cells": [
    {
      "cell_type": "code",
      "source": [
        "import torch"
      ],
      "metadata": {
        "id": "_kGiGx5XZUq3"
      },
      "execution_count": 1,
      "outputs": []
    },
    {
      "cell_type": "code",
      "execution_count": 5,
      "metadata": {
        "id": "eDszTFANZSjQ"
      },
      "outputs": [],
      "source": [
        "def precompute_freqs_cis(dim: int, end: int, theta: float = 10000.0):\n",
        "    freqs = 1.0 / (theta ** (torch.arange(0, dim, 2)[: (dim // 2)].float() / dim))\n",
        "    t = torch.arange(end, device=freqs.device, dtype=torch.float32)\n",
        "    freqs = torch.outer(t, freqs)\n",
        "    freqs_cis = torch.polar(torch.ones_like(freqs), freqs)  # complex64\n",
        "    return freqs_cis"
      ]
    },
    {
      "cell_type": "markdown",
      "source": [
        "**사용된 함수 모두 정리**\n",
        "\n",
        "- torch.arange(start=0, end, step=1) -> list split과 동일하다고 생각하면 됨.\n",
        "    - ex) torch.arange(0, 4, 2) >> tensor([0, 2, 4])\n",
        "-"
      ],
      "metadata": {
        "id": "vUGUqZNjZoHr"
      }
    },
    {
      "cell_type": "code",
      "source": [
        "#@title 변수\n",
        "dim = 4096 #@param {type:\"number\"}\n",
        "end = 4096 #@param {type:\"number\"}\n",
        "theta = 10000 #@param {type:\"number\"}\n"
      ],
      "metadata": {
        "cellView": "form",
        "id": "4NeL5PCMZcIH"
      },
      "execution_count": 3,
      "outputs": []
    },
    {
      "cell_type": "code",
      "source": [
        "import matplotlib.pyplot as plt\n",
        "print(precompute_freqs_cis(dim, end, theta))\n",
        "precompute_freqs_cis(dim, end, theta).shape"
      ],
      "metadata": {
        "colab": {
          "base_uri": "https://localhost:8080/"
        },
        "id": "3Su-EbrbZd7U",
        "outputId": "b8f864ce-4104-4f05-d2aa-a5798db6cb80"
      },
      "execution_count": 8,
      "outputs": [
        {
          "output_type": "stream",
          "name": "stdout",
          "text": [
            "tensor([[ 1.0000+0.0000e+00j,  1.0000+0.0000e+00j,  1.0000+0.0000e+00j,\n",
            "          ...,  1.0000+0.0000e+00j,  1.0000+0.0000e+00j,\n",
            "          1.0000+0.0000e+00j],\n",
            "        [ 0.5403+8.4147e-01j,  0.5441+8.3904e-01j,  0.5478+8.3660e-01j,\n",
            "          ...,  1.0000+1.0136e-04j,  1.0000+1.0090e-04j,\n",
            "          1.0000+1.0045e-04j],\n",
            "        [-0.4161+9.0930e-01j, -0.4080+9.1300e-01j, -0.3998+9.1660e-01j,\n",
            "          ...,  1.0000+2.0272e-04j,  1.0000+2.0181e-04j,\n",
            "          1.0000+2.0090e-04j],\n",
            "        ...,\n",
            "        [-0.8799+4.7523e-01j, -0.9999+1.1882e-02j, -0.8501-5.2670e-01j,\n",
            "          ...,  0.9152+4.0306e-01j,  0.9159+4.0136e-01j,\n",
            "          0.9167+3.9966e-01j],\n",
            "        [-0.8753-4.8361e-01j, -0.5539-8.3257e-01j, -0.0251-9.9968e-01j,\n",
            "          ...,  0.9151+4.0315e-01j,  0.9159+4.0145e-01j,\n",
            "          0.9166+3.9975e-01j],\n",
            "        [-0.0660-9.9782e-01j,  0.3970-9.1780e-01j,  0.8227-5.6852e-01j,\n",
            "          ...,  0.9151+4.0325e-01j,  0.9158+4.0154e-01j,\n",
            "          0.9166+3.9984e-01j]])\n"
          ]
        },
        {
          "output_type": "execute_result",
          "data": {
            "text/plain": [
              "torch.Size([4096, 2048])"
            ]
          },
          "metadata": {},
          "execution_count": 8
        }
      ]
    },
    {
      "cell_type": "code",
      "source": [],
      "metadata": {
        "id": "Ol_jwDHobHrL"
      },
      "execution_count": null,
      "outputs": []
    },
    {
      "cell_type": "code",
      "source": [
        "tor"
      ],
      "metadata": {
        "id": "cXV0BXd8aEst"
      },
      "execution_count": null,
      "outputs": []
    }
  ]
}